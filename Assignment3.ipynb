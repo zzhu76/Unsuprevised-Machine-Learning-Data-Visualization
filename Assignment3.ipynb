{
  "nbformat": 4,
  "nbformat_minor": 0,
  "metadata": {
    "colab": {
      "name": "Assignment3.ipynb",
      "provenance": [],
      "authorship_tag": "ABX9TyPfjPnzBU7XNO7aStJ8HwpR",
      "include_colab_link": true
    },
    "kernelspec": {
      "name": "python3",
      "display_name": "Python 3"
    },
    "language_info": {
      "name": "python"
    }
  },
  "cells": [
    {
      "cell_type": "markdown",
      "metadata": {
        "id": "view-in-github",
        "colab_type": "text"
      },
      "source": [
        "<a href=\"https://colab.research.google.com/github/zzhu76/Unsuprevised-Machine-Learning-Data-Visualization/blob/main/Assignment3.ipynb\" target=\"_parent\"><img src=\"https://colab.research.google.com/assets/colab-badge.svg\" alt=\"Open In Colab\"/></a>"
      ]
    },
    {
      "cell_type": "markdown",
      "metadata": {
        "id": "qEn-2ieqs3ro"
      },
      "source": [
        "## Unsuprevised Machine Learning \n"
      ]
    },
    {
      "cell_type": "markdown",
      "metadata": {
        "id": "4xz-vr1cs_IW"
      },
      "source": [
        "### K-means Clustering"
      ]
    },
    {
      "cell_type": "code",
      "metadata": {
        "id": "swLNH5oetFMe"
      },
      "source": [
        "#Import libraries\n",
        "\n",
        "import numpy as np\n",
        "import pandas as pd\n",
        "import matplotlib.pyplot as plt\n",
        "from sklearn.cluster import KMeans "
      ],
      "execution_count": 1,
      "outputs": []
    },
    {
      "cell_type": "code",
      "metadata": {
        "colab": {
          "base_uri": "https://localhost:8080/",
          "height": 357
        },
        "id": "Y1ftlCQqtnDK",
        "outputId": "239c341d-d0ac-4b24-9116-55f665bbe5f2"
      },
      "source": [
        "df = pd.read_csv(\"https://github.com/zzhu76/Unsuprevised-Machine-Learning-Data-Visualization/files/7125988/Brooklyn_Nets_Stats_2020-21.csv\")\n",
        "df.head(10)"
      ],
      "execution_count": 19,
      "outputs": [
        {
          "output_type": "execute_result",
          "data": {
            "text/html": [
              "<div>\n",
              "<style scoped>\n",
              "    .dataframe tbody tr th:only-of-type {\n",
              "        vertical-align: middle;\n",
              "    }\n",
              "\n",
              "    .dataframe tbody tr th {\n",
              "        vertical-align: top;\n",
              "    }\n",
              "\n",
              "    .dataframe thead th {\n",
              "        text-align: right;\n",
              "    }\n",
              "</style>\n",
              "<table border=\"1\" class=\"dataframe\">\n",
              "  <thead>\n",
              "    <tr style=\"text-align: right;\">\n",
              "      <th></th>\n",
              "      <th>NAME</th>\n",
              "      <th>GP</th>\n",
              "      <th>GS</th>\n",
              "      <th>MIN</th>\n",
              "      <th>PTS</th>\n",
              "      <th>OR</th>\n",
              "      <th>DR</th>\n",
              "      <th>REB</th>\n",
              "      <th>AST</th>\n",
              "      <th>STL</th>\n",
              "      <th>BLK</th>\n",
              "      <th>TO</th>\n",
              "      <th>PF</th>\n",
              "      <th>AST/TO</th>\n",
              "      <th>PER</th>\n",
              "    </tr>\n",
              "  </thead>\n",
              "  <tbody>\n",
              "    <tr>\n",
              "      <th>0</th>\n",
              "      <td>Kevin Durant PF</td>\n",
              "      <td>35</td>\n",
              "      <td>32</td>\n",
              "      <td>33.1</td>\n",
              "      <td>26.9</td>\n",
              "      <td>0.4</td>\n",
              "      <td>6.7</td>\n",
              "      <td>7.1</td>\n",
              "      <td>5.6</td>\n",
              "      <td>0.7</td>\n",
              "      <td>1.3</td>\n",
              "      <td>3.4</td>\n",
              "      <td>2.0</td>\n",
              "      <td>1.6</td>\n",
              "      <td>26.44</td>\n",
              "    </tr>\n",
              "    <tr>\n",
              "      <th>1</th>\n",
              "      <td>Kyrie Irving PG</td>\n",
              "      <td>54</td>\n",
              "      <td>54</td>\n",
              "      <td>34.9</td>\n",
              "      <td>26.9</td>\n",
              "      <td>1.0</td>\n",
              "      <td>3.8</td>\n",
              "      <td>4.8</td>\n",
              "      <td>6.0</td>\n",
              "      <td>1.4</td>\n",
              "      <td>0.7</td>\n",
              "      <td>2.4</td>\n",
              "      <td>2.6</td>\n",
              "      <td>2.5</td>\n",
              "      <td>24.51</td>\n",
              "    </tr>\n",
              "    <tr>\n",
              "      <th>2</th>\n",
              "      <td>James Harden SG *</td>\n",
              "      <td>36</td>\n",
              "      <td>35</td>\n",
              "      <td>36.6</td>\n",
              "      <td>24.6</td>\n",
              "      <td>0.8</td>\n",
              "      <td>7.7</td>\n",
              "      <td>8.5</td>\n",
              "      <td>10.9</td>\n",
              "      <td>1.3</td>\n",
              "      <td>0.8</td>\n",
              "      <td>4.0</td>\n",
              "      <td>2.4</td>\n",
              "      <td>2.7</td>\n",
              "      <td>25.04</td>\n",
              "    </tr>\n",
              "    <tr>\n",
              "      <th>3</th>\n",
              "      <td>Caris LeVert SG *</td>\n",
              "      <td>12</td>\n",
              "      <td>6</td>\n",
              "      <td>27.8</td>\n",
              "      <td>18.5</td>\n",
              "      <td>0.8</td>\n",
              "      <td>3.5</td>\n",
              "      <td>4.3</td>\n",
              "      <td>6.0</td>\n",
              "      <td>1.1</td>\n",
              "      <td>0.5</td>\n",
              "      <td>2.2</td>\n",
              "      <td>1.7</td>\n",
              "      <td>2.8</td>\n",
              "      <td>19.18</td>\n",
              "    </tr>\n",
              "    <tr>\n",
              "      <th>4</th>\n",
              "      <td>Joe Harris SF</td>\n",
              "      <td>69</td>\n",
              "      <td>65</td>\n",
              "      <td>31.0</td>\n",
              "      <td>14.1</td>\n",
              "      <td>0.6</td>\n",
              "      <td>3.0</td>\n",
              "      <td>3.6</td>\n",
              "      <td>1.9</td>\n",
              "      <td>0.7</td>\n",
              "      <td>0.2</td>\n",
              "      <td>0.9</td>\n",
              "      <td>2.0</td>\n",
              "      <td>2.1</td>\n",
              "      <td>14.12</td>\n",
              "    </tr>\n",
              "    <tr>\n",
              "      <th>5</th>\n",
              "      <td>LaMarcus Aldridge F *</td>\n",
              "      <td>5</td>\n",
              "      <td>5</td>\n",
              "      <td>26.0</td>\n",
              "      <td>12.8</td>\n",
              "      <td>0.4</td>\n",
              "      <td>4.4</td>\n",
              "      <td>4.8</td>\n",
              "      <td>2.6</td>\n",
              "      <td>0.6</td>\n",
              "      <td>2.2</td>\n",
              "      <td>1.4</td>\n",
              "      <td>2.2</td>\n",
              "      <td>1.9</td>\n",
              "      <td>18.23</td>\n",
              "    </tr>\n",
              "    <tr>\n",
              "      <th>6</th>\n",
              "      <td>Jarrett Allen C *</td>\n",
              "      <td>12</td>\n",
              "      <td>6</td>\n",
              "      <td>26.6</td>\n",
              "      <td>11.2</td>\n",
              "      <td>3.2</td>\n",
              "      <td>7.3</td>\n",
              "      <td>10.4</td>\n",
              "      <td>1.7</td>\n",
              "      <td>0.6</td>\n",
              "      <td>1.6</td>\n",
              "      <td>1.8</td>\n",
              "      <td>1.8</td>\n",
              "      <td>0.9</td>\n",
              "      <td>21.55</td>\n",
              "    </tr>\n",
              "    <tr>\n",
              "      <th>7</th>\n",
              "      <td>Jeff Green PF</td>\n",
              "      <td>68</td>\n",
              "      <td>38</td>\n",
              "      <td>27.0</td>\n",
              "      <td>11.0</td>\n",
              "      <td>0.5</td>\n",
              "      <td>3.4</td>\n",
              "      <td>3.9</td>\n",
              "      <td>1.6</td>\n",
              "      <td>0.5</td>\n",
              "      <td>0.4</td>\n",
              "      <td>0.8</td>\n",
              "      <td>1.8</td>\n",
              "      <td>2.0</td>\n",
              "      <td>13.01</td>\n",
              "    </tr>\n",
              "    <tr>\n",
              "      <th>8</th>\n",
              "      <td>Blake Griffin PF *</td>\n",
              "      <td>26</td>\n",
              "      <td>11</td>\n",
              "      <td>21.5</td>\n",
              "      <td>10.0</td>\n",
              "      <td>1.1</td>\n",
              "      <td>3.6</td>\n",
              "      <td>4.7</td>\n",
              "      <td>2.4</td>\n",
              "      <td>0.7</td>\n",
              "      <td>0.5</td>\n",
              "      <td>1.2</td>\n",
              "      <td>2.7</td>\n",
              "      <td>2.1</td>\n",
              "      <td>16.35</td>\n",
              "    </tr>\n",
              "    <tr>\n",
              "      <th>9</th>\n",
              "      <td>Landry Shamet SG</td>\n",
              "      <td>61</td>\n",
              "      <td>12</td>\n",
              "      <td>23.0</td>\n",
              "      <td>9.3</td>\n",
              "      <td>0.2</td>\n",
              "      <td>1.7</td>\n",
              "      <td>1.8</td>\n",
              "      <td>1.6</td>\n",
              "      <td>0.5</td>\n",
              "      <td>0.2</td>\n",
              "      <td>0.8</td>\n",
              "      <td>1.5</td>\n",
              "      <td>2.1</td>\n",
              "      <td>10.39</td>\n",
              "    </tr>\n",
              "  </tbody>\n",
              "</table>\n",
              "</div>"
            ],
            "text/plain": [
              "                    NAME  GP  GS   MIN   PTS  ...  BLK   TO   PF  AST/TO    PER\n",
              "0        Kevin Durant PF  35  32  33.1  26.9  ...  1.3  3.4  2.0     1.6  26.44\n",
              "1        Kyrie Irving PG  54  54  34.9  26.9  ...  0.7  2.4  2.6     2.5  24.51\n",
              "2      James Harden SG *  36  35  36.6  24.6  ...  0.8  4.0  2.4     2.7  25.04\n",
              "3      Caris LeVert SG *  12   6  27.8  18.5  ...  0.5  2.2  1.7     2.8  19.18\n",
              "4          Joe Harris SF  69  65  31.0  14.1  ...  0.2  0.9  2.0     2.1  14.12\n",
              "5  LaMarcus Aldridge F *   5   5  26.0  12.8  ...  2.2  1.4  2.2     1.9  18.23\n",
              "6      Jarrett Allen C *  12   6  26.6  11.2  ...  1.6  1.8  1.8     0.9  21.55\n",
              "7          Jeff Green PF  68  38  27.0  11.0  ...  0.4  0.8  1.8     2.0  13.01\n",
              "8     Blake Griffin PF *  26  11  21.5  10.0  ...  0.5  1.2  2.7     2.1  16.35\n",
              "9       Landry Shamet SG  61  12  23.0   9.3  ...  0.2  0.8  1.5     2.1  10.39\n",
              "\n",
              "[10 rows x 15 columns]"
            ]
          },
          "metadata": {},
          "execution_count": 19
        }
      ]
    },
    {
      "cell_type": "code",
      "metadata": {
        "id": "KihKhXk6uW9C"
      },
      "source": [
        "# select \"minuteplayed\", \"points\", \"rebound\", and \"assist\" four features\n",
        "x = df.iloc[:, [3,4,7,8]].values"
      ],
      "execution_count": 22,
      "outputs": []
    },
    {
      "cell_type": "code",
      "metadata": {
        "colab": {
          "base_uri": "https://localhost:8080/",
          "height": 295
        },
        "id": "1v08EqEyvDtP",
        "outputId": "deea9e4c-2b92-46c5-b003-3193f8b5ff32"
      },
      "source": [
        "# Use elbow method to calculate the optimum value of k\n",
        "Error =[]\n",
        "for i in range(1, 11):\n",
        "    kmeans = KMeans(n_clusters = i,).fit(x)\n",
        "    kmeans.fit(x)\n",
        "    Error.append(kmeans.inertia_)\n",
        "import matplotlib.pyplot as plt\n",
        "plt.plot(range(1, 11), Error)\n",
        "plt.title('Elbow method')\n",
        "plt.xlabel('No of clusters')\n",
        "plt.ylabel('Error')\n",
        "plt.show()\n"
      ],
      "execution_count": 31,
      "outputs": [
        {
          "output_type": "display_data",
          "data": {
            "image/png": "[encoded data removed]",
            "text/plain": [
              "<Figure size 432x288 with 1 Axes>"
            ]
          },
          "metadata": {
            "needs_background": "light"
          }
        }
      ]
    },
    {
      "cell_type": "code",
      "metadata": {
        "colab": {
          "base_uri": "https://localhost:8080/"
        },
        "id": "333DCRnTyY7-",
        "outputId": "d39c0252-e3f0-45e0-d1f0-973c8f29f0c9"
      },
      "source": [
        "# Implement k-means clustering with k=4\n",
        "kmeans4 = KMeans(n_clusters=4)\n",
        "y_kmeans4 = kmeans4.fit_predict(x)\n",
        "print(y_kmeans4)\n",
        "\n",
        "kmeans4.cluster_centers_"
      ],
      "execution_count": 30,
      "outputs": [
        {
          "output_type": "stream",
          "name": "stdout",
          "text": [
            "[0 0 0 3 3 3 3 3 2 2 2 2 2 2 2 2 2 2 1 1 1 1 1 1]\n"
          ]
        },
        {
          "output_type": "execute_result",
          "data": {
            "text/plain": [
              "array([[34.86666667, 26.13333333,  6.8       ,  7.5       ],\n",
              "       [ 8.2       ,  2.41666667,  2.16666667,  1.        ],\n",
              "       [20.06      ,  7.65      ,  3.84      ,  1.83      ],\n",
              "       [27.68      , 13.52      ,  5.4       ,  2.76      ]])"
            ]
          },
          "metadata": {},
          "execution_count": 30
        }
      ]
    },
    {
      "cell_type": "code",
      "metadata": {
        "colab": {
          "base_uri": "https://localhost:8080/",
          "height": 265
        },
        "id": "0XIEJwwAy_lF",
        "outputId": "49b2d797-076c-4808-c20e-3ddf7b0b0426"
      },
      "source": [
        "# Visulizing Clustering \n",
        "plt.scatter(x[:,0], x[:,1], c=y_kmeans4, cmap=\"rainbow\");"
      ],
      "execution_count": 29,
      "outputs": [
        {
          "output_type": "display_data",
          "data": {
            "image/png": "[encoded data removed]",
            "text/plain": [
              "<Figure size 432x288 with 1 Axes>"
            ]
          },
          "metadata": {
            "needs_background": "light"
          }
        }
      ]
    },
    {
      "cell_type": "markdown",
      "metadata": {
        "id": "WxbjiQCytInv"
      },
      "source": [
        "### 3D Plot"
      ]
    },
    {
      "cell_type": "code",
      "metadata": {
        "id": "4kszwUvotLqd"
      },
      "source": [
        ""
      ],
      "execution_count": null,
      "outputs": []
    },
    {
      "cell_type": "markdown",
      "metadata": {
        "id": "fc9ffUUJtMst"
      },
      "source": [
        "## Conclusion\n"
      ]
    },
    {
      "cell_type": "code",
      "metadata": {
        "id": "7rzGseB-tPlQ"
      },
      "source": [
        ""
      ],
      "execution_count": null,
      "outputs": []
    }
  ]
}